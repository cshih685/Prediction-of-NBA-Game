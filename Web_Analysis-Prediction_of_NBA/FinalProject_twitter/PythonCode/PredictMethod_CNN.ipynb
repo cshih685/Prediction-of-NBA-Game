{
 "cells": [
  {
   "cell_type": "code",
   "execution_count": 1,
   "metadata": {},
   "outputs": [
    {
     "name": "stdout",
     "output_type": "stream",
     "text": [
      "--- programming start---\n",
      "Get result from /Users/cosoet/SIT/BIA660-WebAnalytics/FinalProject/PythonCode/GameResult/Thunder.csv\n",
      "Team: Thunder Date: 2016-10-26 W\n",
      "Team: Thunder Date: 2016-10-28 W\n",
      "Team: Thunder Date: 2016-10-30 W\n",
      "Team: Thunder Date: 2016-11-02 W\n",
      "Team: Thunder Date: 2016-11-03 L\n",
      "Team: Thunder Date: 2016-11-05 W\n",
      "Team: Thunder Date: 2016-11-07 W\n",
      "Team: Thunder Date: 2016-11-09 L\n",
      "Team: Thunder Date: 2016-11-11 L\n",
      "Team: Thunder Date: 2016-11-13 L\n",
      "Team: Thunder Date: 2016-11-14 L\n",
      "Team: Thunder Date: 2016-11-16 W\n",
      "Team: Thunder Date: 2016-11-18 W\n",
      "Team: Thunder Date: 2016-11-20 L\n",
      "Team: Thunder Date: 2016-11-22 L\n",
      "Team: Thunder Date: 2016-11-23 L\n",
      "Team: Thunder Date: 2016-11-25 W\n",
      "Team: Thunder Date: 2016-11-26 W\n",
      "Team: Thunder Date: 2016-11-28 W\n",
      "Team: Thunder Date: 2016-11-30 W\n",
      "Team: Thunder Date: 2016-12-04 W\n",
      "Team: Thunder Date: 2016-12-05 W\n",
      "Team: Thunder Date: 2016-12-09 L\n",
      "Team: Thunder Date: 2016-12-11 W\n",
      "Team: Thunder Date: 2016-12-13 L\n",
      "Team: Thunder Date: 2016-12-14 L\n",
      "Team: Thunder Date: 2016-12-17 W\n",
      "Team: Thunder Date: 2016-12-19 L\n",
      "Team: Thunder Date: 2016-12-21 W\n",
      "Team: Thunder Date: 2016-12-23 W\n",
      "Team: Thunder Date: 2016-12-25 W\n",
      "Team: Thunder Date: 2016-12-27 W\n",
      "Team: Thunder Date: 2016-12-29 L\n",
      "Team: Thunder Date: 2016-12-31 W\n",
      "Team: Thunder Date: 2017-01-02 L\n",
      "Team: Thunder Date: 2017-01-04 L\n",
      "Team: Thunder Date: 2017-01-05 L\n",
      "Team: Thunder Date: 2017-01-07 W\n",
      "Team: Thunder Date: 2017-01-09 W\n",
      "Team: Thunder Date: 2017-01-11 W\n",
      "Team: Thunder Date: 2017-01-13 L\n",
      "Team: Thunder Date: 2017-01-15 W\n",
      "Team: Thunder Date: 2017-01-16 L\n",
      "Team: Thunder Date: 2017-01-18 L\n",
      "Team: Thunder Date: 2017-01-23 W\n",
      "Team: Thunder Date: 2017-01-25 W\n",
      "Team: Thunder Date: 2017-01-26 W\n",
      "Team: Thunder Date: 2017-01-29 L\n",
      "Team: Thunder Date: 2017-01-31 L\n",
      "Team: Thunder Date: 2017-02-01 L\n",
      "Team: Thunder Date: 2017-02-03 W\n",
      "Team: Thunder Date: 2017-02-05 W\n",
      "Team: Thunder Date: 2017-02-06 L\n",
      "Team: Thunder Date: 2017-02-09 W\n",
      "Team: Thunder Date: 2017-02-11 L\n",
      "Team: Thunder Date: 2017-02-13 L\n",
      "Team: Thunder Date: 2017-02-15 W\n",
      "Team: Thunder Date: 2017-02-24 W\n",
      "Team: Thunder Date: 2017-02-26 W\n",
      "Team: Thunder Date: 2017-02-28 W\n",
      "Team: Thunder Date: 2017-03-02 L\n",
      "Team: Thunder Date: 2017-03-03 L\n",
      "Team: Thunder Date: 2017-03-05 L\n",
      "Team: Thunder Date: 2017-03-07 L\n",
      "Team: Thunder Date: 2017-03-09 W\n",
      "Team: Thunder Date: 2017-03-11 W\n",
      "Team: Thunder Date: 2017-03-14 W\n",
      "Team: Thunder Date: 2017-03-16 W\n",
      "Team: Thunder Date: 2017-03-18 W\n",
      "Team: Thunder Date: 2017-03-20 L\n",
      "Team: Thunder Date: 2017-03-22 W\n",
      "Team: Thunder Date: 2017-03-26 L\n",
      "Team: Thunder Date: 2017-03-27 W\n",
      "Team: Thunder Date: 2017-03-29 W\n",
      "Team: Thunder Date: 2017-03-31 L\n",
      "Team: Thunder Date: 2017-04-02 L\n",
      "Team: Thunder Date: 2017-04-04 W\n",
      "Team: Thunder Date: 2017-04-05 W\n",
      "Team: Thunder Date: 2017-04-07 L\n",
      "Team: Thunder Date: 2017-04-09 W\n",
      "Team: Thunder Date: 2017-04-11 W\n",
      "Team: Thunder Date: 2017-04-12 L\n",
      "(78, 729, 4)\n",
      "(78,)\n",
      "--- This code just use part of data---\n",
      "--- programming end---\n"
     ]
    }
   ],
   "source": [
    "import os\n",
    "import csv\n",
    "import re\n",
    "import sample_package.commonFunction as basefunc\n",
    "import sample_package.filterMethod as filter_TFID\n",
    "from nltk.corpus import stopwords\n",
    "\n",
    "from datetime import datetime\n",
    "from nltk.sentiment.vader import SentimentIntensityAnalyzer\n",
    "from numpy  import array\n",
    "import numpy as np\n",
    "from scipy.misc import toimage\n",
    "\n",
    "# = function \n",
    "\n",
    "# = init\n",
    "\n",
    "sid = SentimentIntensityAnalyzer()\n",
    "\n",
    "foundCnt = 0;\n",
    "foundMax = 1000;\n",
    "sentimentCnt =3\n",
    "lenght = 27\n",
    "magicNumber = lenght*lenght\n",
    "zt = []\n",
    "yt = []\n",
    "\n",
    "\n",
    "# = main \n",
    "\n",
    "# get Game Infomation\n",
    "\n",
    "    \n",
    "print(\"--- programming start---\")\n",
    "\n",
    "\n",
    "teamNameList = [\"Thunder\"] # , \"Blazers\",\"Grizzlies\",\"Thunder\"\n",
    "\n",
    "for teamName in teamNameList:\n",
    "\n",
    "    gameInfo = basefunc.getGameInfo(teamName);\n",
    "\n",
    "    for eachGameInfo in gameInfo:\n",
    "\n",
    "        # Game data and time\n",
    "        gameDate = eachGameInfo.Date\n",
    "        gameTime = eachGameInfo.Time\n",
    "\n",
    "\n",
    "        print(\"Team: {} Date: {} {}\".format(teamName, gameDate, eachGameInfo.result))\n",
    "        fileName = basefunc.getCvsPathByGameData(teamName, gameDate)\n",
    "        foundCnt+=1\n",
    "\n",
    "        if(len(fileName)>=1):\n",
    "        # read file to ...\n",
    "            tweetsfile = open(fileName[0], 'r')\n",
    "            tweets = csv.reader(tweetsfile)\n",
    "            csvTitle = next(tweets, None)\n",
    "\n",
    "            tweetCnt = 0\n",
    "            totalList =[]\n",
    "            \n",
    "            # get each tweet\n",
    "            for row in tweets:\n",
    "                \n",
    "                # get tweet's sentiment\n",
    "                tpresult = sid.polarity_scores(row[0])\n",
    "    #             print(tpresult)\n",
    "                if(tpresult[\"compound\"] != 0):\n",
    "                    tweetCnt+=1\n",
    "                    tplist = [tpresult['neg'], tpresult['neu'],tpresult['pos'],tpresult['compound']]\n",
    "                    totalList.append(tplist)\n",
    "                if(tweetCnt>=magicNumber):\n",
    "                    break\n",
    "\n",
    "            if len(totalList) == magicNumber:\n",
    "                a = array(totalList)\n",
    "                b = a[a[:, 3].argsort()]\n",
    "                c = b.tolist()\n",
    "                zt.append(c)\n",
    "                if(eachGameInfo.result == \"W\"):\n",
    "                    yt.append(0)\n",
    "                else:\n",
    "                    yt.append(1)\n",
    "\n",
    "        # show only one result then break\n",
    "        if foundCnt >= foundMax:\n",
    "            break;\n",
    "        \n",
    "        \n",
    "\n",
    "x_result = array( zt )\n",
    "y_result = array( yt)\n",
    "print(x_result.shape)\n",
    "print(y_result.shape)\n",
    "print(\"--- This code just use part of data---\")\n",
    "print(\"--- programming end---\")\n"
   ]
  },
  {
   "cell_type": "code",
   "execution_count": 3,
   "metadata": {},
   "outputs": [
    {
     "data": {
      "image/png": "[encoded data removed]",
      "text/plain": [
       "<Figure size 432x288 with 2 Axes>"
      ]
     },
     "metadata": {},
     "output_type": "display_data"
    }
   ],
   "source": [
    "import numpy as np\n",
    "import seaborn as sns\n",
    "import pandas as pd\n",
    "\n",
    "# show the sentiment table as an image\n",
    "\n",
    "pal = sns.dark_palette(\"white\", as_cmap=True)\n",
    "df1 = pd.DataFrame(x_result[1])\n",
    "sns.heatmap(df1, cmap=pal, yticklabels=False);\n"
   ]
  },
  {
   "cell_type": "code",
   "execution_count": 4,
   "metadata": {},
   "outputs": [
    {
     "name": "stderr",
     "output_type": "stream",
     "text": [
      "/Users/cosoet/anaconda3/lib/python3.6/site-packages/h5py/__init__.py:36: FutureWarning: Conversion of the second argument of issubdtype from `float` to `np.floating` is deprecated. In future, it will be treated as `np.float64 == np.dtype(float).type`.\n",
      "  from ._conv import register_converters as _register_converters\n",
      "Using TensorFlow backend.\n"
     ]
    },
    {
     "name": "stdout",
     "output_type": "stream",
     "text": [
      "(70, 729, 4)\n",
      "[[[ 0.402   0.598   0.     -0.9146]\n",
      "  [ 0.392   0.608   0.     -0.8834]\n",
      "  [ 0.319   0.681   0.     -0.872 ]\n",
      "  ...\n",
      "  [ 0.      0.546   0.454   0.9124]\n",
      "  [ 0.      0.627   0.373   0.9165]\n",
      "  [ 0.      0.588   0.412   0.9407]]\n",
      "\n",
      " [[ 0.93    0.07    0.     -0.9811]\n",
      "  [ 0.458   0.542   0.     -0.9136]\n",
      "  [ 0.388   0.612   0.     -0.908 ]\n",
      "  ...\n",
      "  [ 0.      0.554   0.446   0.9168]\n",
      "  [ 0.      0.431   0.569   0.9214]\n",
      "  [ 0.      0.485   0.515   0.9299]]\n",
      "\n",
      " [[ 0.647   0.353   0.     -0.9305]\n",
      "  [ 0.463   0.413   0.124  -0.91  ]\n",
      "  [ 0.56    0.44    0.     -0.9094]\n",
      "  ...\n",
      "  [ 0.      0.524   0.476   0.914 ]\n",
      "  [ 0.      0.536   0.464   0.955 ]\n",
      "  [ 0.      0.436   0.564   0.9657]]\n",
      "\n",
      " ...\n",
      "\n",
      " [[ 0.456   0.455   0.089  -0.92  ]\n",
      "  [ 0.675   0.325   0.     -0.8854]\n",
      "  [ 0.345   0.655   0.     -0.8747]\n",
      "  ...\n",
      "  [ 0.      0.612   0.388   0.8953]\n",
      "  [ 0.      0.41    0.59    0.96  ]\n",
      "  [ 0.      0.314   0.686   0.9712]]\n",
      "\n",
      " [[ 0.545   0.455   0.     -0.9211]\n",
      "  [ 0.414   0.586   0.     -0.8999]\n",
      "  [ 0.383   0.617   0.     -0.8841]\n",
      "  ...\n",
      "  [ 0.      0.489   0.511   0.9493]\n",
      "  [ 0.      0.458   0.542   0.9578]\n",
      "  [ 0.088   0.37    0.542   0.9647]]\n",
      "\n",
      " [[ 0.479   0.521   0.     -0.8957]\n",
      "  [ 0.413   0.587   0.     -0.8732]\n",
      "  [ 0.478   0.408   0.114  -0.872 ]\n",
      "  ...\n",
      "  [ 0.      0.5     0.5     0.9325]\n",
      "  [ 0.      0.543   0.457   0.9514]\n",
      "  [ 0.      0.456   0.544   0.9576]]]\n"
     ]
    }
   ],
   "source": [
    "from keras.utils import np_utils\n",
    "from sklearn.model_selection import train_test_split\n",
    "\n",
    "\n",
    "X_train, X_test, y_train, y_test = train_test_split(\\\n",
    "                x_result, y_result, test_size=0.1, random_state=0)\n",
    "\n",
    "print(X_train.shape)\n",
    "print(X_train)"
   ]
  },
  {
   "cell_type": "code",
   "execution_count": 5,
   "metadata": {},
   "outputs": [],
   "source": [
    "from keras.utils import np_utils\n",
    "x_Train4D=X_train.reshape(X_train.shape[0],729,4,1).astype('float32')\n",
    "x_Test4D=X_test.reshape(X_test.shape[0],729,4,1).astype('float32')\n",
    "y_TrainOneHot = np_utils.to_categorical(y_train)"
   ]
  },
  {
   "cell_type": "code",
   "execution_count": 6,
   "metadata": {},
   "outputs": [
    {
     "data": {
      "text/plain": [
       "(70, 729, 4, 1)"
      ]
     },
     "execution_count": 6,
     "metadata": {},
     "output_type": "execute_result"
    }
   ],
   "source": [
    "x_Train4D.shape"
   ]
  },
  {
   "cell_type": "code",
   "execution_count": 8,
   "metadata": {},
   "outputs": [],
   "source": [
    "import numpy as np\n",
    "import pandas as pd\n",
    "import keras\n",
    "from keras.utils import np_utils\n",
    "from keras.models import Sequential\n",
    "from keras.layers import Dense,Dropout,Flatten,Conv2D,MaxPooling2D\n",
    "from keras.callbacks import EarlyStopping"
   ]
  },
  {
   "cell_type": "code",
   "execution_count": 9,
   "metadata": {},
   "outputs": [],
   "source": [
    "# This part build our CNN structure\n",
    "\n",
    "model = Sequential()\n",
    "\n",
    "# CNN first layer\n",
    "model.add(Conv2D(filters=16,\n",
    "                 kernel_size=(3,3),\n",
    "                 padding='same',\n",
    "                 input_shape=(729,4,1), \n",
    "                 activation='relu'))\n",
    "# CNN second layer\n",
    "model.add(MaxPooling2D(pool_size=(2, 2)))\n",
    "model.add(Conv2D(filters=36,\n",
    "                 kernel_size=(2,2),\n",
    "                 padding='same',\n",
    "                 activation='relu'))\n",
    "model.add(MaxPooling2D(pool_size=(1, 1)))\n",
    "model.add(Conv2D(filters=48,\n",
    "                 kernel_size=(1,1),\n",
    "                 padding='same',\n",
    "                 activation='relu'))\n",
    "model.add(MaxPooling2D(pool_size=(1, 1)))"
   ]
  },
  {
   "cell_type": "code",
   "execution_count": 10,
   "metadata": {},
   "outputs": [],
   "source": [
    "model.add(Dropout(0.3))\n",
    "model.add(Flatten())\n",
    "model.add(Dense(128, activation='relu'))\n",
    "model.add(Dropout(0.5))\n",
    "model.add(Dense(2,activation='sigmoid'))"
   ]
  },
  {
   "cell_type": "code",
   "execution_count": 11,
   "metadata": {},
   "outputs": [
    {
     "name": "stdout",
     "output_type": "stream",
     "text": [
      "_________________________________________________________________\n",
      "Layer (type)                 Output Shape              Param #   \n",
      "=================================================================\n",
      "conv2d_1 (Conv2D)            (None, 729, 4, 16)        160       \n",
      "_________________________________________________________________\n",
      "max_pooling2d_1 (MaxPooling2 (None, 364, 2, 16)        0         \n",
      "_________________________________________________________________\n",
      "conv2d_2 (Conv2D)            (None, 364, 2, 36)        2340      \n",
      "_________________________________________________________________\n",
      "max_pooling2d_2 (MaxPooling2 (None, 364, 2, 36)        0         \n",
      "_________________________________________________________________\n",
      "conv2d_3 (Conv2D)            (None, 364, 2, 48)        1776      \n",
      "_________________________________________________________________\n",
      "max_pooling2d_3 (MaxPooling2 (None, 364, 2, 48)        0         \n",
      "_________________________________________________________________\n",
      "dropout_1 (Dropout)          (None, 364, 2, 48)        0         \n",
      "_________________________________________________________________\n",
      "flatten_1 (Flatten)          (None, 34944)             0         \n",
      "_________________________________________________________________\n",
      "dense_1 (Dense)              (None, 128)               4472960   \n",
      "_________________________________________________________________\n",
      "dropout_2 (Dropout)          (None, 128)               0         \n",
      "_________________________________________________________________\n",
      "dense_2 (Dense)              (None, 2)                 258       \n",
      "=================================================================\n",
      "Total params: 4,477,494\n",
      "Trainable params: 4,477,494\n",
      "Non-trainable params: 0\n",
      "_________________________________________________________________\n",
      "None\n"
     ]
    }
   ],
   "source": [
    "print(model.summary())"
   ]
  },
  {
   "cell_type": "code",
   "execution_count": 12,
   "metadata": {},
   "outputs": [
    {
     "name": "stdout",
     "output_type": "stream",
     "text": [
      "Train on 56 samples, validate on 14 samples\n",
      "Epoch 1/45\n",
      " - 1s - loss: 2.2885 - acc: 0.4375 - val_loss: 0.8874 - val_acc: 0.5714\n",
      "Epoch 2/45\n",
      " - 0s - loss: 0.6985 - acc: 0.6071 - val_loss: 0.9723 - val_acc: 0.4286\n",
      "Epoch 3/45\n",
      " - 0s - loss: 0.8670 - acc: 0.4643 - val_loss: 0.6886 - val_acc: 0.5714\n",
      "Epoch 4/45\n",
      " - 0s - loss: 0.6998 - acc: 0.6339 - val_loss: 0.7138 - val_acc: 0.4286\n",
      "Epoch 5/45\n",
      " - 0s - loss: 0.7081 - acc: 0.5893 - val_loss: 0.6813 - val_acc: 0.5714\n",
      "Epoch 6/45\n",
      " - 0s - loss: 0.7655 - acc: 0.4821 - val_loss: 0.6949 - val_acc: 0.5000\n",
      "Epoch 7/45\n",
      " - 0s - loss: 0.6932 - acc: 0.5625 - val_loss: 0.6839 - val_acc: 0.5714\n",
      "Epoch 8/45\n",
      " - 0s - loss: 0.6760 - acc: 0.5536 - val_loss: 0.6826 - val_acc: 0.5714\n",
      "Epoch 9/45\n",
      " - 0s - loss: 0.7004 - acc: 0.5357 - val_loss: 0.6823 - val_acc: 0.5714\n",
      "Epoch 10/45\n",
      " - 0s - loss: 0.7089 - acc: 0.4732 - val_loss: 0.7081 - val_acc: 0.4286\n",
      "Epoch 11/45\n",
      " - 0s - loss: 0.6940 - acc: 0.5714 - val_loss: 0.6915 - val_acc: 0.4286\n",
      "Epoch 12/45\n",
      " - 0s - loss: 0.7475 - acc: 0.4375 - val_loss: 0.6823 - val_acc: 0.5714\n",
      "Epoch 13/45\n",
      " - 0s - loss: 0.6654 - acc: 0.6339 - val_loss: 0.6814 - val_acc: 0.5714\n",
      "Epoch 14/45\n",
      " - 0s - loss: 0.6528 - acc: 0.6161 - val_loss: 0.6878 - val_acc: 0.5714\n",
      "Epoch 15/45\n",
      " - 0s - loss: 0.6887 - acc: 0.6875 - val_loss: 0.6835 - val_acc: 0.5714\n"
     ]
    }
   ],
   "source": [
    "\n",
    "# set the early stop\n",
    "early_stopping = EarlyStopping(monitor='val_loss', patience=10)\n",
    "model.compile(loss='binary_crossentropy', optimizer='rmsprop',metrics=['accuracy'])\n",
    "\n",
    "# training data\n",
    "train_history=model.fit(x=x_Train4D, \n",
    "                        y=y_TrainOneHot,validation_split=0.2, \n",
    "                        epochs=45, batch_size=20,verbose=2,callbacks=[early_stopping]) #,callbacks=[early_stopping]"
   ]
  },
  {
   "cell_type": "code",
   "execution_count": 13,
   "metadata": {},
   "outputs": [],
   "source": [
    "import matplotlib.pyplot as plt\n",
    "def show_train_history(train_acc,test_acc):\n",
    "    plt.plot(train_history.history[train_acc])\n",
    "    plt.plot(train_history.history[test_acc])\n",
    "    plt.title('Train History')\n",
    "    plt.ylabel('Accuracy')\n",
    "    plt.xlabel('Epoch')\n",
    "    plt.legend(['train', 'test'], loc='upper left')\n",
    "    plt.show()"
   ]
  },
  {
   "cell_type": "code",
   "execution_count": 14,
   "metadata": {},
   "outputs": [
    {
     "data": {
      "image/png": "[encoded data removed]",
      "text/plain": [
       "<Figure size 432x288 with 1 Axes>"
      ]
     },
     "metadata": {},
     "output_type": "display_data"
    },
    {
     "data": {
      "image/png": "[encoded data removed]",
      "text/plain": [
       "<Figure size 432x288 with 1 Axes>"
      ]
     },
     "metadata": {},
     "output_type": "display_data"
    },
    {
     "name": "stdout",
     "output_type": "stream",
     "text": [
      "--- This code just use part of data---\n",
      "--- So the accuracy is very low---\n",
      "\r",
      "8/8 [==============================] - 0s 2ms/step\n"
     ]
    },
    {
     "data": {
      "text/plain": [
       "0.875"
      ]
     },
     "execution_count": 14,
     "metadata": {},
     "output_type": "execute_result"
    }
   ],
   "source": [
    "show_train_history('acc','val_acc')\n",
    "show_train_history('loss','val_loss')\n",
    "\n",
    "y_TestOneHot = np_utils.to_categorical(y_test)\n",
    "\n",
    "print(\"--- This code just use part of data---\")\n",
    "print(\"--- So the accuracy is very low---\")\n",
    "\n",
    "scores = model.evaluate(x_Test4D , y_TestOneHot)\n",
    "scores[1]"
   ]
  },
  {
   "cell_type": "code",
   "execution_count": null,
   "metadata": {},
   "outputs": [],
   "source": []
  }
 ],
 "metadata": {
  "kernelspec": {
   "display_name": "Python 3",
   "language": "python",
   "name": "python3"
  },
  "language_info": {
   "codemirror_mode": {
    "name": "ipython",
    "version": 3
   },
   "file_extension": ".py",
   "mimetype": "text/x-python",
   "name": "python",
   "nbconvert_exporter": "python",
   "pygments_lexer": "ipython3",
   "version": "3.6.6"
  }
 },
 "nbformat": 4,
 "nbformat_minor": 2
}
