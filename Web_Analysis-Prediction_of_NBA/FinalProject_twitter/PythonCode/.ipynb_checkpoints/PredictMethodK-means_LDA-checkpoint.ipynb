{
 "cells": [
  {
   "cell_type": "code",
   "execution_count": 1,
   "metadata": {},
   "outputs": [
    {
     "name": "stdout",
     "output_type": "stream",
     "text": [
      "--- programming start---\n",
      "Collecting tweets...\n",
      "Get result from /Users/cosoet/SIT/BIA660-WebAnalytics/FinalProject/PythonCode/GameResult/Thunder.csv\n",
      "--- programming end---\n"
     ]
    }
   ],
   "source": [
    "import os\n",
    "import csv\n",
    "import re\n",
    "import sample_package.commonFunction as basefunc\n",
    "import sample_package.filterMethod as filter_TFID\n",
    "from nltk.corpus import stopwords\n",
    "import re\n",
    "\n",
    "from datetime import datetime\n",
    "from nltk.sentiment.vader import SentimentIntensityAnalyzer\n",
    "from numpy  import array\n",
    "import numpy as np\n",
    "from scipy.misc import toimage\n",
    "\n",
    "\n",
    "\n",
    "sid = SentimentIntensityAnalyzer()\n",
    "\n",
    "foundCnt = 0;\n",
    "foundMax = 1000;\n",
    "tweetIn=[];\n",
    "labelIn=[];\n",
    "nrow='';\n",
    "text = []\n",
    "target = []\n",
    "\n",
    "# get Game Infomation\n",
    "\n",
    "    \n",
    "print(\"--- programming start---\")\n",
    "print(\"Collecting tweets...\")\n",
    "\n",
    "#let's try team \"Thunder\" far example\n",
    "# if you want to try multiple teams, append team names into list.\n",
    "teamNameList = [\"Thunder\"] # , \"Blazers\",\"Grizzlies\"\n",
    "\n",
    "for teamName in teamNameList:\n",
    "\n",
    "    gameInfo = basefunc.getGameInfo(teamName);\n",
    "\n",
    "    for eachGameInfo in gameInfo:\n",
    "\n",
    "        # Game data and time\n",
    "        gameDate = eachGameInfo.Date\n",
    "        gameTime = eachGameInfo.Time\n",
    "\n",
    "\n",
    "#         print(\"Team: {} Date: {} {}\".format(teamName, gameDate, eachGameInfo.result))\n",
    "        fileName = basefunc.getCvsPathByGameData(teamName, gameDate)\n",
    "        foundCnt+=1\n",
    "        if (len(fileName) == 0):\n",
    "            continue;\n",
    "        \n",
    "        fileName = ''.join(fileName)\n",
    "        nrow='';\n",
    "        file=open(fileName, 'r', encoding='utf-8')\n",
    "        csvCursor=csv.reader(file)\n",
    "        \n",
    "        for idx, row in enumerate(csvCursor):\n",
    "            if idx>0:\n",
    "        #For here,if you want to run with sentiment, please comment block 1. and open block 2.\n",
    "\n",
    "                #-------------block 1. without sentiment-------------#\n",
    "                # remove http link\n",
    "                tpt = re.sub(r'(https|http)?:\\/\\/(\\w|\\.|\\/|\\?|\\=|\\&|\\%)*\\b', '', row[0], flags=re.MULTILINE)\n",
    "                # remove team's name\n",
    "                tpt = tpt.replace(teamName, '')\n",
    "                nrow+=tpt\n",
    "                #------------- end of block 1. -----------#\n",
    "\n",
    "\n",
    "                #-------------block 2. sentiment-------------\n",
    "                # remove \n",
    "#                 tpt = re.sub(r'(https|http)?:\\/\\/(\\w|\\.|\\/|\\?|\\=|\\&|\\%)*\\b', '', row[0], flags=re.MULTILINE)\n",
    "#                 tpresult = sid.polarity_scores(tpt)\n",
    "#                 if(tpresult[\"compound\"] != 0):\n",
    "#                     tpt = tpt.replace(teamName, '')\n",
    "#                     nrow += tpt\n",
    "            #------------- end of block 2. ------------#\n",
    "        tweetIn.append(nrow)\n",
    "        \n",
    "        if(eachGameInfo.result=='W'):        \n",
    "            labelIn.append(eachGameInfo.result)\n",
    "        elif(eachGameInfo.result=='L'):\n",
    "            labelIn.append(eachGameInfo.result)\n",
    "\n",
    "        \n",
    "\n",
    "    if foundCnt >= foundMax:\n",
    "        break;\n",
    "print(\"--- programming end---\")"
   ]
  },
  {
   "cell_type": "code",
   "execution_count": 2,
   "metadata": {},
   "outputs": [],
   "source": [
    "import pickle\n",
    "from sklearn.feature_extraction.text import TfidfVectorizer\n",
    "from sklearn import metrics\n",
    "\n",
    "tfidf_vect = TfidfVectorizer(stop_words=\"english\",min_df=5) \n",
    "\n",
    "# generate tfidf matrix\n",
    "dtm= tfidf_vect.fit_transform(tweetIn)"
   ]
  },
  {
   "cell_type": "code",
   "execution_count": 3,
   "metadata": {},
   "outputs": [
    {
     "name": "stderr",
     "output_type": "stream",
     "text": [
      "/Users/cosoet/anaconda3/lib/python3.6/site-packages/nltk/cluster/util.py:133: RuntimeWarning: invalid value encountered in double_scalars\n",
      "  sqrt(numpy.dot(u, u)) * sqrt(numpy.dot(v, v))))\n"
     ]
    }
   ],
   "source": [
    "from nltk.cluster import KMeansClusterer, cosine_distance\n",
    "\n",
    "# set number of clusters\n",
    "num_clusters=2\n",
    "\n",
    "# initialize clustering model\n",
    "# using cosine distance\n",
    "# clustering will repeat 10 times\n",
    "# each with different initial centroids\n",
    "clusterer = KMeansClusterer(num_clusters, cosine_distance, repeats=10)\n",
    "\n",
    "# samples are assigned to cluster labels starting from 0\n",
    "clusters = clusterer.cluster(dtm.toarray(), assign_clusters=True)"
   ]
  },
  {
   "cell_type": "code",
   "execution_count": 4,
   "metadata": {},
   "outputs": [
    {
     "name": "stdout",
     "output_type": "stream",
     "text": [
      "\n",
      "Print the word in Topic\n",
      "\n",
      "Cluster 0: thunder; twitter; com; pic; vs; shock; westbrook; game; city; rain; mareep; nba; oklahoma; warriors; 15; 14; tonight; okc; just; like \n",
      "Cluster 1: thunder; twitter; com; pic; rain; vs; city; voice; words; flowers; nba; grows; game; oklahoma; youtube; rumi; war; video; like; just \n"
     ]
    }
   ],
   "source": [
    "from sklearn import metrics\n",
    "import numpy as np\n",
    "\n",
    "# clusterer.means() contains the centroids\n",
    "# each row is a cluster, and \n",
    "# each column is a feature (word)\n",
    "centroids=np.array(clusterer.means())\n",
    "\n",
    "sorted_centroids = centroids.argsort()[:, ::-1] \n",
    "\n",
    "voc_lookup= tfidf_vect.get_feature_names()\n",
    "\n",
    "\n",
    "print(\"\")\n",
    "print(\"Print the word in Topic\")\n",
    "print(\"\")\n",
    "for i in range(num_clusters):\n",
    "    # get words with top 20 tf-idf weight in the centroid\n",
    "    top_words=[voc_lookup[word_index] \\\n",
    "               for word_index in sorted_centroids[i, :20]]\n",
    "    print(\"Cluster %d: %s \" % (i, \"; \".join(top_words)))"
   ]
  },
  {
   "cell_type": "code",
   "execution_count": 5,
   "metadata": {},
   "outputs": [
    {
     "data": {
      "text/html": [
       "<div>\n",
       "<style scoped>\n",
       "    .dataframe tbody tr th:only-of-type {\n",
       "        vertical-align: middle;\n",
       "    }\n",
       "\n",
       "    .dataframe tbody tr th {\n",
       "        vertical-align: top;\n",
       "    }\n",
       "\n",
       "    .dataframe thead th {\n",
       "        text-align: right;\n",
       "    }\n",
       "</style>\n",
       "<table border=\"1\" class=\"dataframe\">\n",
       "  <thead>\n",
       "    <tr style=\"text-align: right;\">\n",
       "      <th>actual_class</th>\n",
       "      <th>L</th>\n",
       "      <th>W</th>\n",
       "    </tr>\n",
       "    <tr>\n",
       "      <th>cluster</th>\n",
       "      <th></th>\n",
       "      <th></th>\n",
       "    </tr>\n",
       "  </thead>\n",
       "  <tbody>\n",
       "    <tr>\n",
       "      <th>0</th>\n",
       "      <td>14</td>\n",
       "      <td>20</td>\n",
       "    </tr>\n",
       "    <tr>\n",
       "      <th>1</th>\n",
       "      <td>20</td>\n",
       "      <td>27</td>\n",
       "    </tr>\n",
       "  </tbody>\n",
       "</table>\n",
       "</div>"
      ],
      "text/plain": [
       "actual_class   L   W\n",
       "cluster             \n",
       "0             14  20\n",
       "1             20  27"
      ]
     },
     "execution_count": 5,
     "metadata": {},
     "output_type": "execute_result"
    }
   ],
   "source": [
    "import pandas as pd\n",
    "\n",
    "df=pd.DataFrame(list(zip(labelIn, clusters)), \\\n",
    "                columns=['actual_class','cluster'])\n",
    "df.head()\n",
    "pd.crosstab( index=df.cluster, columns=df.actual_class)"
   ]
  },
  {
   "cell_type": "code",
   "execution_count": 6,
   "metadata": {},
   "outputs": [
    {
     "name": "stdout",
     "output_type": "stream",
     "text": [
      "Task1: K-Mean clustering result /n\n",
      "             precision    recall  f1-score   support\n",
      "\n",
      "       Lose       0.43      0.59      0.49        34\n",
      "        Win       0.59      0.43      0.49        47\n",
      "\n",
      "avg / total       0.52      0.49      0.49        81\n",
      "\n"
     ]
    }
   ],
   "source": [
    "#---test K-Mean clustering---#\n",
    "\n",
    "cluster_dict={0:'Win', 1:\"Lose\"}\n",
    "meaningful_dict={'W':'Win', 'L':\"Lose\"}\n",
    "# Assign true class to cluster\n",
    "predicted_target=[cluster_dict[i] for i in clusters]\n",
    "meaningful_target=[meaningful_dict[i] for i in labelIn]\n",
    "\n",
    "\n",
    "print(\"Task1: K-Mean clustering result /n\")\n",
    "print(metrics.classification_report(meaningful_target, predicted_target))"
   ]
  },
  {
   "cell_type": "code",
   "execution_count": 7,
   "metadata": {},
   "outputs": [],
   "source": [
    "from sklearn.feature_extraction.text import CountVectorizer\n",
    "from sklearn.model_selection import train_test_split\n",
    "\n",
    "# LDA can only use raw term counts for LDA \n",
    "tf_vectorizer = CountVectorizer(max_df=0.75, min_df=5, stop_words='english')\n",
    "tf = tf_vectorizer.fit_transform(tweetIn)\n",
    "\n",
    "tf_feature_names = tf_vectorizer.get_feature_names()\n",
    "\n",
    "X_train, X_test = train_test_split(tf, test_size=0.3, random_state=0)"
   ]
  },
  {
   "cell_type": "code",
   "execution_count": 8,
   "metadata": {},
   "outputs": [
    {
     "name": "stderr",
     "output_type": "stream",
     "text": [
      "/Users/cosoet/anaconda3/lib/python3.6/site-packages/sklearn/decomposition/online_lda.py:536: DeprecationWarning: The default value for 'learning_method' will be changed from 'online' to 'batch' in the release 0.20. This warning was introduced in 0.18.\n",
      "  DeprecationWarning)\n"
     ]
    },
    {
     "name": "stdout",
     "output_type": "stream",
     "text": [
      "iteration: 1 of max_iter: 25, perplexity: 9113.1047\n",
      "iteration: 2 of max_iter: 25, perplexity: 8285.1417\n",
      "iteration: 3 of max_iter: 25, perplexity: 7986.7502\n",
      "iteration: 4 of max_iter: 25, perplexity: 7847.0163\n",
      "iteration: 5 of max_iter: 25, perplexity: 7766.9177\n",
      "iteration: 6 of max_iter: 25, perplexity: 7714.5878\n",
      "iteration: 7 of max_iter: 25, perplexity: 7677.3141\n",
      "iteration: 8 of max_iter: 25, perplexity: 7649.4118\n",
      "iteration: 9 of max_iter: 25, perplexity: 7627.7577\n",
      "iteration: 10 of max_iter: 25, perplexity: 7610.4599\n",
      "iteration: 11 of max_iter: 25, perplexity: 7596.3472\n",
      "iteration: 12 of max_iter: 25, perplexity: 7584.6409\n",
      "iteration: 13 of max_iter: 25, perplexity: 7574.7965\n",
      "iteration: 14 of max_iter: 25, perplexity: 7566.4202\n",
      "iteration: 15 of max_iter: 25, perplexity: 7559.2206\n",
      "iteration: 16 of max_iter: 25, perplexity: 7552.9779\n",
      "iteration: 17 of max_iter: 25, perplexity: 7547.5236\n",
      "iteration: 18 of max_iter: 25, perplexity: 7542.7260\n",
      "iteration: 19 of max_iter: 25, perplexity: 7538.4794\n",
      "iteration: 20 of max_iter: 25, perplexity: 7534.6981\n",
      "iteration: 21 of max_iter: 25, perplexity: 7531.3113\n",
      "iteration: 22 of max_iter: 25, perplexity: 7528.2597\n",
      "iteration: 23 of max_iter: 25, perplexity: 7525.4946\n",
      "iteration: 24 of max_iter: 25, perplexity: 7522.9756\n",
      "iteration: 25 of max_iter: 25, perplexity: 7520.6692\n"
     ]
    }
   ],
   "source": [
    "#-- Test LDA model --\n",
    "from sklearn.decomposition import LatentDirichletAllocation\n",
    "\n",
    "num_topics = 2\n",
    "lda = LatentDirichletAllocation(n_components=num_topics, \\\n",
    "                                max_iter=25,verbose=1,\n",
    "                                evaluate_every=1, n_jobs=1,\n",
    "                                random_state=0).fit(X_train)"
   ]
  },
  {
   "cell_type": "code",
   "execution_count": 27,
   "metadata": {},
   "outputs": [
    {
     "name": "stdout",
     "output_type": "stream",
     "text": [
      "Task: LDA with single-label \n",
      "\n",
      "             precision    recall  f1-score   support\n",
      "\n",
      "       Lose       0.45      0.62      0.52        34\n",
      "        Win       0.62      0.45      0.52        47\n",
      "\n",
      "avg / total       0.55      0.52      0.52        81\n",
      "\n"
     ]
    }
   ],
   "source": [
    "import numpy as np\n",
    "\n",
    "# X_train, X_test\n",
    "# Generate topic assignment of each document\n",
    "topic_assign=lda.transform(tf)\n",
    "\n",
    "#tranform to index\n",
    "maxIdxLst = np.argmax(topic_assign, axis=1)\n",
    "\n",
    "cluster_dict={0:'Win', 1:\"Lose\"}\n",
    "meaningful_dict={'W':'Win', 'L':\"Lose\"}\n",
    "\n",
    "# Assign true class to cluster\n",
    "predicted_target=[cluster_dict[i] for i in maxIdxLst]\n",
    "meaningful_target=[meaningful_dict[i] for i in labelIn]\n",
    "\n",
    "print(\"Task: LDA with single-label \\n\")\n",
    "print(metrics.classification_report(meaningful_target, predicted_target))"
   ]
  },
  {
   "cell_type": "code",
   "execution_count": null,
   "metadata": {},
   "outputs": [],
   "source": []
  }
 ],
 "metadata": {
  "kernelspec": {
   "display_name": "Python 3",
   "language": "python",
   "name": "python3"
  },
  "language_info": {
   "codemirror_mode": {
    "name": "ipython",
    "version": 3
   },
   "file_extension": ".py",
   "mimetype": "text/x-python",
   "name": "python",
   "nbconvert_exporter": "python",
   "pygments_lexer": "ipython3",
   "version": "3.6.4"
  }
 },
 "nbformat": 4,
 "nbformat_minor": 2
}
